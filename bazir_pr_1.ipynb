{
  "nbformat": 4,
  "nbformat_minor": 0,
  "metadata": {
    "colab": {
      "provenance": []
    },
    "kernelspec": {
      "name": "python3",
      "display_name": "Python 3"
    },
    "language_info": {
      "name": "python"
    }
  },
  "cells": [
    {
      "cell_type": "code",
      "execution_count": null,
      "metadata": {
        "colab": {
          "base_uri": "https://localhost:8080/"
        },
        "id": "s6UZffuCpsoZ",
        "outputId": "e0502415-9c40-46d9-8c3a-d5d11bbc4e64"
      },
      "outputs": [
        {
          "output_type": "stream",
          "name": "stdout",
          "text": [
            "hello world\n"
          ]
        }
      ],
      "source": [
        "print(\"hello world\")"
      ]
    },
    {
      "cell_type": "code",
      "source": [
        "a=23\n",
        "b=17\n",
        "c=(a+b)\n",
        "print(\"the sum is:\",c)"
      ],
      "metadata": {
        "colab": {
          "base_uri": "https://localhost:8080/"
        },
        "id": "U1T39C1Jp9IN",
        "outputId": "0accb960-eae6-4c97-b96d-5d90ba1495c5"
      },
      "execution_count": null,
      "outputs": [
        {
          "output_type": "stream",
          "name": "stdout",
          "text": [
            "the sum is: 40\n"
          ]
        }
      ]
    },
    {
      "cell_type": "code",
      "source": [
        "a=int(input(\"Enter your number:\"))\n",
        "if a>0:\n",
        "  print(\"positive number\")\n",
        "elif a<0:\n",
        "  print(\"negative number\")\n",
        "else:\n",
        "  print(\"zero\")"
      ],
      "metadata": {
        "colab": {
          "base_uri": "https://localhost:8080/"
        },
        "id": "vnl0BVRJp-vj",
        "outputId": "7c1d399e-5cd9-47c8-e314-4a343e71b142"
      },
      "execution_count": null,
      "outputs": [
        {
          "output_type": "stream",
          "name": "stdout",
          "text": [
            "Enter your number:45\n",
            "positive number\n"
          ]
        }
      ]
    },
    {
      "cell_type": "code",
      "source": [
        "a=int(input(\"Enter your number:\"))\n",
        "if a%2==0:\n",
        "  print(\"even\")\n",
        "else:\n",
        "  print(\"odd\")"
      ],
      "metadata": {
        "colab": {
          "base_uri": "https://localhost:8080/"
        },
        "id": "ynuwWPIgsyID",
        "outputId": "54b00b2b-f054-4665-9be1-c125f753207b"
      },
      "execution_count": null,
      "outputs": [
        {
          "output_type": "stream",
          "name": "stdout",
          "text": [
            "Enter your number:24\n",
            "even\n"
          ]
        }
      ]
    },
    {
      "cell_type": "code",
      "source": [
        "a=int(input(\"Enter the number:\"))\n",
        "if a>90:\n",
        "  print(\"A+\")\n",
        "elif a>80:\n",
        "  print(\"A\")\n",
        "elif a>70:\n",
        "  print(\"B+\")\n",
        "elif a>60:\n",
        "  print(\"B\")\n",
        "elif a>50:\n",
        "  print(\"C\")\n",
        "else:\n",
        "  print(\"fail\")\n"
      ],
      "metadata": {
        "colab": {
          "base_uri": "https://localhost:8080/"
        },
        "id": "eCgXdr2otsK0",
        "outputId": "1193bc8f-1b69-4abd-b45a-90383e7ec172"
      },
      "execution_count": null,
      "outputs": [
        {
          "output_type": "stream",
          "name": "stdout",
          "text": [
            "Enter the number:76\n",
            "B+\n"
          ]
        }
      ]
    },
    {
      "cell_type": "code",
      "source": [
        "n=int(input(\"Enter the number:\"))\n",
        "a,b=0,1\n",
        "for i in range(n):\n",
        "  print(a,end=\" \")\n",
        "  a,b=b,a+b"
      ],
      "metadata": {
        "id": "p953Aqj7uxtc",
        "colab": {
          "base_uri": "https://localhost:8080/"
        },
        "outputId": "28fe508e-2f7c-4674-98e6-cd2cc44134b1"
      },
      "execution_count": null,
      "outputs": [
        {
          "output_type": "stream",
          "name": "stdout",
          "text": [
            "Enter the number:15\n",
            "0 1 1 2 3 5 8 13 21 34 55 89 144 233 377 "
          ]
        }
      ]
    },
    {
      "cell_type": "code",
      "source": [
        "def fact(n):\n",
        "  if n==0:\n",
        "    return 1\n",
        "  else:\n",
        "    return n*fact(n-1)\n",
        "a=int(input(\"number:\"))\n",
        "print(fact(a))\n"
      ],
      "metadata": {
        "colab": {
          "base_uri": "https://localhost:8080/"
        },
        "id": "7CFDTmBB6L3O",
        "outputId": "bb7bb63c-4710-4ff7-e00b-941b1c212cb8"
      },
      "execution_count": null,
      "outputs": [
        {
          "output_type": "stream",
          "name": "stdout",
          "text": [
            "number:5\n",
            "120\n"
          ]
        }
      ]
    },
    {
      "cell_type": "code",
      "source": [
        "#tuple\n",
        "t1=(1,2,3,4,5)\n",
        "print(type(t1))"
      ],
      "metadata": {
        "colab": {
          "base_uri": "https://localhost:8080/"
        },
        "id": "EczdJ5Bw-_zN",
        "outputId": "d0a98d40-d40a-44a0-9b99-c09d733e2687"
      },
      "execution_count": null,
      "outputs": [
        {
          "output_type": "stream",
          "name": "stdout",
          "text": [
            "<class 'tuple'>\n"
          ]
        }
      ]
    },
    {
      "cell_type": "code",
      "source": [
        "t2=(1,2,3,5,4)\n",
        "print(type(t2))\n"
      ],
      "metadata": {
        "colab": {
          "base_uri": "https://localhost:8080/"
        },
        "id": "0My2H7UzAea2",
        "outputId": "6d37ce32-c8df-4ef4-f862-7ea6238bfdae"
      },
      "execution_count": null,
      "outputs": [
        {
          "output_type": "stream",
          "name": "stdout",
          "text": [
            "<class 'tuple'>\n"
          ]
        }
      ]
    },
    {
      "cell_type": "code",
      "source": [
        "t3=(1,2,3,0)\n",
        "print(type(t3))"
      ],
      "metadata": {
        "colab": {
          "base_uri": "https://localhost:8080/"
        },
        "id": "2TgvXKdhAw9l",
        "outputId": "93bf55f5-a0d6-407a-a247-af75deed92cc"
      },
      "execution_count": null,
      "outputs": [
        {
          "output_type": "stream",
          "name": "stdout",
          "text": [
            "<class 'tuple'>\n"
          ]
        }
      ]
    },
    {
      "cell_type": "code",
      "source": [
        "t4=(1,2,3,5,\"true\")\n",
        "print(type(t4))"
      ],
      "metadata": {
        "colab": {
          "base_uri": "https://localhost:8080/"
        },
        "id": "7_r6rAScBFGF",
        "outputId": "9e0a5e6d-2274-431a-f887-5dc2e1a10fb5"
      },
      "execution_count": null,
      "outputs": [
        {
          "output_type": "stream",
          "name": "stdout",
          "text": [
            "<class 'tuple'>\n"
          ]
        }
      ]
    },
    {
      "cell_type": "code",
      "source": [
        "t5=t1+t2\n",
        "print(type(t5))"
      ],
      "metadata": {
        "colab": {
          "base_uri": "https://localhost:8080/"
        },
        "id": "WqguWc5jCMtd",
        "outputId": "c4d9013c-1060-42e2-be88-e3d5f242fdd9"
      },
      "execution_count": null,
      "outputs": [
        {
          "output_type": "stream",
          "name": "stdout",
          "text": [
            "<class 'tuple'>\n"
          ]
        }
      ]
    },
    {
      "cell_type": "code",
      "source": [
        "t1"
      ],
      "metadata": {
        "colab": {
          "base_uri": "https://localhost:8080/"
        },
        "id": "KYPprZJbCc-V",
        "outputId": "893afe41-4cf3-4696-b244-34b19f1b6098"
      },
      "execution_count": null,
      "outputs": [
        {
          "output_type": "execute_result",
          "data": {
            "text/plain": [
              "(1, 2, 3, 4, 5)"
            ]
          },
          "metadata": {},
          "execution_count": 16
        }
      ]
    },
    {
      "cell_type": "code",
      "source": [
        "a,b,c,d,e=t1"
      ],
      "metadata": {
        "id": "GlSxWdKqFqj2"
      },
      "execution_count": null,
      "outputs": []
    },
    {
      "cell_type": "code",
      "source": [
        "a"
      ],
      "metadata": {
        "colab": {
          "base_uri": "https://localhost:8080/"
        },
        "id": "ii5RIf8RFz4N",
        "outputId": "bbe2c8e9-15d4-4d23-c0af-bf49c13767d9"
      },
      "execution_count": null,
      "outputs": [
        {
          "output_type": "execute_result",
          "data": {
            "text/plain": [
              "5"
            ]
          },
          "metadata": {},
          "execution_count": 17
        }
      ]
    },
    {
      "cell_type": "code",
      "source": [
        "b"
      ],
      "metadata": {
        "id": "b56vg2McF5vt",
        "outputId": "c84f6ff3-e861-431e-b6b4-8c435c6461e9",
        "colab": {
          "base_uri": "https://localhost:8080/"
        }
      },
      "execution_count": null,
      "outputs": [
        {
          "output_type": "execute_result",
          "data": {
            "text/plain": [
              "987"
            ]
          },
          "metadata": {},
          "execution_count": 19
        }
      ]
    },
    {
      "cell_type": "code",
      "source": [
        "c"
      ],
      "metadata": {
        "colab": {
          "base_uri": "https://localhost:8080/"
        },
        "id": "stU7qfw2GMFd",
        "outputId": "90bebc0f-cdde-4d6b-b0bb-f97385e59402"
      },
      "execution_count": null,
      "outputs": [
        {
          "output_type": "execute_result",
          "data": {
            "text/plain": [
              "40"
            ]
          },
          "metadata": {},
          "execution_count": 20
        }
      ]
    },
    {
      "cell_type": "markdown",
      "source": [
        "set"
      ],
      "metadata": {
        "id": "g3BO3ah5rxgL"
      }
    },
    {
      "cell_type": "code",
      "source": [
        "s1=\"hello\"\n",
        "print(type(s1))"
      ],
      "metadata": {
        "id": "lRdiD2PJGO5t",
        "colab": {
          "base_uri": "https://localhost:8080/"
        },
        "outputId": "79624f5d-7178-46bd-9a32-07c8aaf47300"
      },
      "execution_count": null,
      "outputs": [
        {
          "output_type": "stream",
          "name": "stdout",
          "text": [
            "<class 'str'>\n"
          ]
        }
      ]
    },
    {
      "cell_type": "code",
      "source": [
        "s2='world'\n",
        "print(type(s2))"
      ],
      "metadata": {
        "colab": {
          "base_uri": "https://localhost:8080/"
        },
        "id": "elmV4GiZHgbO",
        "outputId": "c84d1c66-595a-42bc-aebf-c69ebe71f299"
      },
      "execution_count": null,
      "outputs": [
        {
          "output_type": "stream",
          "name": "stdout",
          "text": [
            "<class 'str'>\n"
          ]
        }
      ]
    },
    {
      "cell_type": "code",
      "source": [
        "s3=\"\"\"multiline\"\"\"\n",
        "print(type(s3))"
      ],
      "metadata": {
        "colab": {
          "base_uri": "https://localhost:8080/"
        },
        "id": "gtYMwvLgHslV",
        "outputId": "da38ee7f-db8c-45af-b13c-aa707c41978c"
      },
      "execution_count": null,
      "outputs": [
        {
          "output_type": "stream",
          "name": "stdout",
          "text": [
            "<class 'str'>\n"
          ]
        }
      ]
    },
    {
      "cell_type": "code",
      "source": [
        "s1"
      ],
      "metadata": {
        "colab": {
          "base_uri": "https://localhost:8080/",
          "height": 35
        },
        "id": "J2XOibm7IRuG",
        "outputId": "71c47a40-dd67-4bb1-a5fa-2d22d823f2f7"
      },
      "execution_count": null,
      "outputs": [
        {
          "output_type": "execute_result",
          "data": {
            "text/plain": [
              "'hello'"
            ],
            "application/vnd.google.colaboratory.intrinsic+json": {
              "type": "string"
            }
          },
          "metadata": {},
          "execution_count": 27
        }
      ]
    },
    {
      "cell_type": "code",
      "source": [
        "print(s2*4)"
      ],
      "metadata": {
        "colab": {
          "base_uri": "https://localhost:8080/"
        },
        "id": "faFshR-5IfnG",
        "outputId": "6103c12f-719f-4521-adca-664ce37d8a2b"
      },
      "execution_count": null,
      "outputs": [
        {
          "output_type": "stream",
          "name": "stdout",
          "text": [
            "worldworldworldworld\n"
          ]
        }
      ]
    },
    {
      "cell_type": "code",
      "source": [
        "print(len(s3))"
      ],
      "metadata": {
        "colab": {
          "base_uri": "https://localhost:8080/"
        },
        "id": "uXpAF6gEIrqN",
        "outputId": "f2881909-d8fc-42cc-d964-68925da9ba29"
      },
      "execution_count": null,
      "outputs": [
        {
          "output_type": "stream",
          "name": "stdout",
          "text": [
            "9\n"
          ]
        }
      ]
    },
    {
      "cell_type": "code",
      "source": [
        "s4=\"madam\"\n",
        "print(type(s4))"
      ],
      "metadata": {
        "colab": {
          "base_uri": "https://localhost:8080/"
        },
        "id": "Kxa2jIfIKHIe",
        "outputId": "34b68037-afee-4219-f82a-034e4babb25d"
      },
      "execution_count": null,
      "outputs": [
        {
          "output_type": "stream",
          "name": "stdout",
          "text": [
            "<class 'str'>\n"
          ]
        }
      ]
    },
    {
      "cell_type": "code",
      "source": [
        "s4"
      ],
      "metadata": {
        "colab": {
          "base_uri": "https://localhost:8080/",
          "height": 35
        },
        "id": "id3XKV49Kdol",
        "outputId": "bf035ac3-719d-4439-feed-5e04d4d9c247"
      },
      "execution_count": null,
      "outputs": [
        {
          "output_type": "execute_result",
          "data": {
            "text/plain": [
              "'madam'"
            ],
            "application/vnd.google.colaboratory.intrinsic+json": {
              "type": "string"
            }
          },
          "metadata": {},
          "execution_count": 33
        }
      ]
    },
    {
      "cell_type": "code",
      "source": [
        "print(s4.upper())"
      ],
      "metadata": {
        "colab": {
          "base_uri": "https://localhost:8080/"
        },
        "id": "TKdGC7hkKg3F",
        "outputId": "947a655e-15b0-4896-ecb2-08ea3ba1920e"
      },
      "execution_count": null,
      "outputs": [
        {
          "output_type": "stream",
          "name": "stdout",
          "text": [
            "MADAM\n"
          ]
        }
      ]
    },
    {
      "cell_type": "code",
      "source": [
        "print(s4.lower())"
      ],
      "metadata": {
        "colab": {
          "base_uri": "https://localhost:8080/"
        },
        "id": "ExGzwLH3K1NO",
        "outputId": "b13ce5bb-ab9d-4db7-a67d-d0ccd6fa04f2"
      },
      "execution_count": null,
      "outputs": [
        {
          "output_type": "stream",
          "name": "stdout",
          "text": [
            "madam\n"
          ]
        }
      ]
    },
    {
      "cell_type": "code",
      "source": [
        "print(s4.capitalize())"
      ],
      "metadata": {
        "colab": {
          "base_uri": "https://localhost:8080/"
        },
        "id": "ryVSJ410K7Gm",
        "outputId": "fc64ae26-7d7d-48f5-d519-ef2df099661c"
      },
      "execution_count": null,
      "outputs": [
        {
          "output_type": "stream",
          "name": "stdout",
          "text": [
            "Madam\n"
          ]
        }
      ]
    },
    {
      "cell_type": "code",
      "source": [
        "print(s4.find('MA'))"
      ],
      "metadata": {
        "colab": {
          "base_uri": "https://localhost:8080/"
        },
        "id": "yROHZWilLIfm",
        "outputId": "a9ce9518-bb7b-4373-c727-c2e4b964657c"
      },
      "execution_count": null,
      "outputs": [
        {
          "output_type": "stream",
          "name": "stdout",
          "text": [
            "-1\n"
          ]
        }
      ]
    },
    {
      "cell_type": "code",
      "source": [
        "print(s4.find('a'))"
      ],
      "metadata": {
        "colab": {
          "base_uri": "https://localhost:8080/"
        },
        "id": "N7bTNQ_DLWSG",
        "outputId": "0feda397-32b2-4cb8-81e4-4d57d2513e56"
      },
      "execution_count": null,
      "outputs": [
        {
          "output_type": "stream",
          "name": "stdout",
          "text": [
            "1\n"
          ]
        }
      ]
    },
    {
      "cell_type": "code",
      "source": [
        "print(s4.replace('d','b'))"
      ],
      "metadata": {
        "colab": {
          "base_uri": "https://localhost:8080/"
        },
        "id": "OW3sCuVQLpPm",
        "outputId": "01c32522-e490-4c52-b1fc-deabc8659932"
      },
      "execution_count": null,
      "outputs": [
        {
          "output_type": "stream",
          "name": "stdout",
          "text": [
            "mabam\n"
          ]
        }
      ]
    },
    {
      "cell_type": "code",
      "source": [
        "#list"
      ],
      "metadata": {
        "id": "JNaET2noddi9"
      },
      "execution_count": null,
      "outputs": []
    },
    {
      "cell_type": "code",
      "source": [
        "l1=[1,2,3,4,5]\n",
        "print(type(l1))"
      ],
      "metadata": {
        "colab": {
          "base_uri": "https://localhost:8080/"
        },
        "id": "XSJGgOo1djWF",
        "outputId": "885b2b67-eb6f-43b2-e300-0f35c05b089f"
      },
      "execution_count": null,
      "outputs": [
        {
          "output_type": "stream",
          "name": "stdout",
          "text": [
            "<class 'list'>\n"
          ]
        }
      ]
    },
    {
      "cell_type": "code",
      "source": [
        "l2=['a','b','c','d']\n",
        "print(type(l2))"
      ],
      "metadata": {
        "colab": {
          "base_uri": "https://localhost:8080/"
        },
        "id": "L5fSoNsld5gN",
        "outputId": "d48a85e8-a435-44c2-9e36-123ee8e118c7"
      },
      "execution_count": null,
      "outputs": [
        {
          "output_type": "stream",
          "name": "stdout",
          "text": [
            "<class 'list'>\n"
          ]
        }
      ]
    },
    {
      "cell_type": "code",
      "source": [
        "l3=[1,'d',True,3.4]\n",
        "print(type(l3))"
      ],
      "metadata": {
        "colab": {
          "base_uri": "https://localhost:8080/"
        },
        "id": "_aB0AIhweEnd",
        "outputId": "277c1e40-dc32-423c-ddc0-475c7350157f"
      },
      "execution_count": null,
      "outputs": [
        {
          "output_type": "stream",
          "name": "stdout",
          "text": [
            "<class 'list'>\n"
          ]
        }
      ]
    },
    {
      "cell_type": "code",
      "source": [
        "l4=[]\n",
        "print(type(l4))"
      ],
      "metadata": {
        "colab": {
          "base_uri": "https://localhost:8080/"
        },
        "id": "KpGOFKpHel29",
        "outputId": "5b5d091a-8a23-4a1d-ba24-bebf95817db3"
      },
      "execution_count": null,
      "outputs": [
        {
          "output_type": "stream",
          "name": "stdout",
          "text": [
            "<class 'list'>\n"
          ]
        }
      ]
    },
    {
      "cell_type": "code",
      "source": [
        "l1"
      ],
      "metadata": {
        "colab": {
          "base_uri": "https://localhost:8080/"
        },
        "id": "87US_CEufGr1",
        "outputId": "12e725ea-fe0b-4c07-9033-60656728a513"
      },
      "execution_count": null,
      "outputs": [
        {
          "output_type": "execute_result",
          "data": {
            "text/plain": [
              "[1, 2, 3, 4, 5]"
            ]
          },
          "metadata": {},
          "execution_count": 7
        }
      ]
    },
    {
      "cell_type": "code",
      "source": [
        "print(l1[0])"
      ],
      "metadata": {
        "colab": {
          "base_uri": "https://localhost:8080/"
        },
        "id": "ebIGJW9AfLKl",
        "outputId": "c3acbab2-386e-4636-d6ca-1dbdcec73c89"
      },
      "execution_count": null,
      "outputs": [
        {
          "output_type": "stream",
          "name": "stdout",
          "text": [
            "1\n"
          ]
        }
      ]
    },
    {
      "cell_type": "code",
      "source": [
        "print(l1[::-1])"
      ],
      "metadata": {
        "colab": {
          "base_uri": "https://localhost:8080/"
        },
        "id": "FVIDesBIfVOe",
        "outputId": "f9589af9-2feb-4f28-ce09-3fa0a4a2702b"
      },
      "execution_count": null,
      "outputs": [
        {
          "output_type": "stream",
          "name": "stdout",
          "text": [
            "[5, 4, 3, 2, 1]\n"
          ]
        }
      ]
    },
    {
      "cell_type": "code",
      "source": [
        "l1.append(9)\n",
        "print(l1)"
      ],
      "metadata": {
        "colab": {
          "base_uri": "https://localhost:8080/"
        },
        "id": "DzQM_7kLfhrN",
        "outputId": "a52ab655-a27f-4d29-bbf5-b799d08f4cbe"
      },
      "execution_count": null,
      "outputs": [
        {
          "output_type": "stream",
          "name": "stdout",
          "text": [
            "[1, 2, 3, 4, 5, 9]\n"
          ]
        }
      ]
    },
    {
      "cell_type": "code",
      "source": [
        "l1.insert(1,5)\n",
        "print(l1)"
      ],
      "metadata": {
        "colab": {
          "base_uri": "https://localhost:8080/"
        },
        "id": "AszDs1uHiYU-",
        "outputId": "fe04dbe1-1612-47db-b3e8-3995ba75ab38"
      },
      "execution_count": null,
      "outputs": [
        {
          "output_type": "stream",
          "name": "stdout",
          "text": [
            "[1, 5, 2, 3, 4, 5, 9]\n"
          ]
        }
      ]
    },
    {
      "cell_type": "code",
      "source": [
        "l1.remove(5)\n",
        "print(l1)"
      ],
      "metadata": {
        "colab": {
          "base_uri": "https://localhost:8080/"
        },
        "id": "Y3ewqU2Oilau",
        "outputId": "b18d95df-8d65-41a3-9690-de75c7783426"
      },
      "execution_count": null,
      "outputs": [
        {
          "output_type": "stream",
          "name": "stdout",
          "text": [
            "[1, 2, 3, 4, 5, 9]\n"
          ]
        }
      ]
    },
    {
      "cell_type": "code",
      "source": [
        "l1"
      ],
      "metadata": {
        "colab": {
          "base_uri": "https://localhost:8080/"
        },
        "id": "6DHfzgAoi0ru",
        "outputId": "2b140a24-0314-46da-cec3-8cdb712d0641"
      },
      "execution_count": null,
      "outputs": [
        {
          "output_type": "execute_result",
          "data": {
            "text/plain": [
              "[1, 2, 3, 4, 5, 9]"
            ]
          },
          "metadata": {},
          "execution_count": 13
        }
      ]
    },
    {
      "cell_type": "code",
      "source": [
        "l2"
      ],
      "metadata": {
        "colab": {
          "base_uri": "https://localhost:8080/"
        },
        "id": "nmDG5WEQi2LO",
        "outputId": "8e680220-7635-458b-f5f7-9b2b825632c7"
      },
      "execution_count": null,
      "outputs": [
        {
          "output_type": "execute_result",
          "data": {
            "text/plain": [
              "['a', 'b', 'c', 'd']"
            ]
          },
          "metadata": {},
          "execution_count": 14
        }
      ]
    },
    {
      "cell_type": "code",
      "source": [
        "lst=l1+l2\n",
        "print(lst)"
      ],
      "metadata": {
        "colab": {
          "base_uri": "https://localhost:8080/"
        },
        "id": "igM-ry4Fi6U3",
        "outputId": "7c013fb1-6909-4e74-e832-af1e990f7596"
      },
      "execution_count": null,
      "outputs": [
        {
          "output_type": "stream",
          "name": "stdout",
          "text": [
            "[1, 2, 3, 4, 5, 9, 'a', 'b', 'c', 'd']\n"
          ]
        }
      ]
    },
    {
      "cell_type": "code",
      "source": [
        "print(len(lst))"
      ],
      "metadata": {
        "colab": {
          "base_uri": "https://localhost:8080/"
        },
        "id": "KzVW92c0jSfm",
        "outputId": "40cb2108-d3d2-4b3d-f7f8-ab150577d7de"
      },
      "execution_count": null,
      "outputs": [
        {
          "output_type": "stream",
          "name": "stdout",
          "text": [
            "10\n"
          ]
        }
      ]
    },
    {
      "cell_type": "code",
      "source": [
        "print(3 not in lst)"
      ],
      "metadata": {
        "colab": {
          "base_uri": "https://localhost:8080/"
        },
        "id": "euetVjH9jeF-",
        "outputId": "144b1af1-ff10-4b71-e33f-a4e8d3c28a64"
      },
      "execution_count": null,
      "outputs": [
        {
          "output_type": "stream",
          "name": "stdout",
          "text": [
            "False\n"
          ]
        }
      ]
    },
    {
      "cell_type": "code",
      "source": [
        "print(2 in lst)"
      ],
      "metadata": {
        "colab": {
          "base_uri": "https://localhost:8080/"
        },
        "id": "NS0fBQAfjsFe",
        "outputId": "3ec558bd-1c5b-446b-f429-2f9513cfe8aa"
      },
      "execution_count": null,
      "outputs": [
        {
          "output_type": "stream",
          "name": "stdout",
          "text": [
            "True\n"
          ]
        }
      ]
    },
    {
      "cell_type": "code",
      "source": [
        "l1"
      ],
      "metadata": {
        "colab": {
          "base_uri": "https://localhost:8080/"
        },
        "id": "GBrEIykfjyCG",
        "outputId": "a5fb12ac-7e6f-488d-847d-ee1409f199ee"
      },
      "execution_count": null,
      "outputs": [
        {
          "output_type": "execute_result",
          "data": {
            "text/plain": [
              "[1, 2, 3, 4, 5, 9]"
            ]
          },
          "metadata": {},
          "execution_count": 19
        }
      ]
    },
    {
      "cell_type": "code",
      "source": [
        "a,b,c,d,e,f=l1"
      ],
      "metadata": {
        "id": "WElyWoRrj1AG"
      },
      "execution_count": null,
      "outputs": []
    },
    {
      "cell_type": "code",
      "source": [
        "a"
      ],
      "metadata": {
        "colab": {
          "base_uri": "https://localhost:8080/"
        },
        "id": "io56PYgRkBMm",
        "outputId": "c776ca65-f24c-46e1-c2cc-94bfa70e4dbc"
      },
      "execution_count": null,
      "outputs": [
        {
          "output_type": "execute_result",
          "data": {
            "text/plain": [
              "1"
            ]
          },
          "metadata": {},
          "execution_count": 21
        }
      ]
    },
    {
      "cell_type": "code",
      "source": [
        "b"
      ],
      "metadata": {
        "colab": {
          "base_uri": "https://localhost:8080/"
        },
        "id": "8vvjKQA5kCzP",
        "outputId": "6b6ebe9b-0bbc-40a1-9987-87a029576614"
      },
      "execution_count": null,
      "outputs": [
        {
          "output_type": "execute_result",
          "data": {
            "text/plain": [
              "2"
            ]
          },
          "metadata": {},
          "execution_count": 22
        }
      ]
    },
    {
      "cell_type": "code",
      "source": [
        "c"
      ],
      "metadata": {
        "colab": {
          "base_uri": "https://localhost:8080/"
        },
        "id": "oj6YfpVqkFCv",
        "outputId": "ac373fa9-9da5-4fdd-fd01-917426c9d6fe"
      },
      "execution_count": null,
      "outputs": [
        {
          "output_type": "execute_result",
          "data": {
            "text/plain": [
              "3"
            ]
          },
          "metadata": {},
          "execution_count": 23
        }
      ]
    },
    {
      "cell_type": "code",
      "source": [
        "d"
      ],
      "metadata": {
        "colab": {
          "base_uri": "https://localhost:8080/"
        },
        "id": "oDs82522kHJW",
        "outputId": "9d2d2b87-e46e-4909-9736-aa939eba3b19"
      },
      "execution_count": null,
      "outputs": [
        {
          "output_type": "execute_result",
          "data": {
            "text/plain": [
              "4"
            ]
          },
          "metadata": {},
          "execution_count": 24
        }
      ]
    },
    {
      "cell_type": "code",
      "source": [
        "e"
      ],
      "metadata": {
        "colab": {
          "base_uri": "https://localhost:8080/"
        },
        "id": "rF-574-0kMtW",
        "outputId": "2bbdd3e0-9278-4d4b-eb29-8e1e1874db03"
      },
      "execution_count": null,
      "outputs": [
        {
          "output_type": "execute_result",
          "data": {
            "text/plain": [
              "5"
            ]
          },
          "metadata": {},
          "execution_count": 25
        }
      ]
    },
    {
      "cell_type": "code",
      "source": [
        "f"
      ],
      "metadata": {
        "colab": {
          "base_uri": "https://localhost:8080/"
        },
        "id": "R0bRoOEckPIv",
        "outputId": "60b0820d-b2f0-459a-adf0-a71dd52d189f"
      },
      "execution_count": null,
      "outputs": [
        {
          "output_type": "execute_result",
          "data": {
            "text/plain": [
              "9"
            ]
          },
          "metadata": {},
          "execution_count": 26
        }
      ]
    },
    {
      "cell_type": "markdown",
      "source": [
        "#dictonary\n"
      ],
      "metadata": {
        "id": "-lr_O5lcmVIf"
      }
    },
    {
      "cell_type": "code",
      "source": [
        "d={}"
      ],
      "metadata": {
        "id": "JbjA1G1SkRi2"
      },
      "execution_count": null,
      "outputs": []
    },
    {
      "cell_type": "code",
      "source": [
        "person={'name':'bazir','age':20,'city':'natham'}\n",
        "print(type(person))"
      ],
      "metadata": {
        "colab": {
          "base_uri": "https://localhost:8080/"
        },
        "id": "jcOhgjewkWVf",
        "outputId": "7ac1629e-c32f-4e1f-e769-7a421af26bd0"
      },
      "execution_count": null,
      "outputs": [
        {
          "output_type": "stream",
          "name": "stdout",
          "text": [
            "<class 'dict'>\n"
          ]
        }
      ]
    },
    {
      "cell_type": "code",
      "source": [
        "person"
      ],
      "metadata": {
        "colab": {
          "base_uri": "https://localhost:8080/"
        },
        "id": "fCuC3rq8lGFf",
        "outputId": "3a874ca8-da3d-4bfa-e087-c6cc2d7e392f"
      },
      "execution_count": null,
      "outputs": [
        {
          "output_type": "execute_result",
          "data": {
            "text/plain": [
              "{'name': 'bazir', 'age': 20, 'city': 'natham'}"
            ]
          },
          "metadata": {},
          "execution_count": 32
        }
      ]
    },
    {
      "cell_type": "code",
      "source": [
        "person['job']='core'\n",
        "print(person)"
      ],
      "metadata": {
        "colab": {
          "base_uri": "https://localhost:8080/"
        },
        "id": "jIw9pvCDlI0W",
        "outputId": "0fc0eaf0-b094-4b9c-ed40-b4dc279a5972"
      },
      "execution_count": null,
      "outputs": [
        {
          "output_type": "stream",
          "name": "stdout",
          "text": [
            "{'name': 'bazir', 'age': 20, 'city': 'natham', 'job': 'core'}\n"
          ]
        }
      ]
    },
    {
      "cell_type": "code",
      "source": [
        "person.update({'salary':75000,'age':28})\n",
        "print(person)"
      ],
      "metadata": {
        "colab": {
          "base_uri": "https://localhost:8080/"
        },
        "id": "FWYe8Xd4loxm",
        "outputId": "10a58ede-c993-44cb-fc4c-79a36b6f2edc"
      },
      "execution_count": null,
      "outputs": [
        {
          "output_type": "stream",
          "name": "stdout",
          "text": [
            "{'name': 'bazir', 'age': 28, 'city': 'natham', 'job': 'core', 'salary': 75000}\n"
          ]
        }
      ]
    },
    {
      "cell_type": "code",
      "source": [
        "person"
      ],
      "metadata": {
        "colab": {
          "base_uri": "https://localhost:8080/"
        },
        "id": "Eu0MnQQPmlDe",
        "outputId": "39116f72-d7cb-4c41-cef1-144ae2f328e6"
      },
      "execution_count": null,
      "outputs": [
        {
          "output_type": "execute_result",
          "data": {
            "text/plain": [
              "{'name': 'bazir', 'age': 28, 'city': 'natham', 'job': 'core', 'salary': 75000}"
            ]
          },
          "metadata": {},
          "execution_count": 36
        }
      ]
    },
    {
      "cell_type": "code",
      "source": [
        "del person['name']\n",
        "print(person)"
      ],
      "metadata": {
        "colab": {
          "base_uri": "https://localhost:8080/"
        },
        "id": "jR5JMDmPnaZf",
        "outputId": "f34ff012-e8a1-4d1c-8437-e45b386671c8"
      },
      "execution_count": null,
      "outputs": [
        {
          "output_type": "stream",
          "name": "stdout",
          "text": [
            "{'age': 28, 'city': 'natham', 'job': 'core', 'salary': 75000}\n"
          ]
        }
      ]
    },
    {
      "cell_type": "code",
      "source": [
        "age=int(input(\"enter the age:\"))\n",
        "if age<18:\n",
        "    print(\"child\")\n",
        "elif age>=18 and age<=30:\n",
        "    print(\"adult\")\n",
        "elif age>30 and age<=40:\n",
        "    print(\"citizen\")\n",
        "else:\n",
        "    print(\"senior citizen\")"
      ],
      "metadata": {
        "id": "Y-gYRt9rny54",
        "colab": {
          "base_uri": "https://localhost:8080/"
        },
        "outputId": "5b3a2785-2018-494c-935a-38a137181f23"
      },
      "execution_count": null,
      "outputs": [
        {
          "output_type": "stream",
          "name": "stdout",
          "text": [
            "enter the age:50\n",
            "senior citizen\n"
          ]
        }
      ]
    }
  ]
}